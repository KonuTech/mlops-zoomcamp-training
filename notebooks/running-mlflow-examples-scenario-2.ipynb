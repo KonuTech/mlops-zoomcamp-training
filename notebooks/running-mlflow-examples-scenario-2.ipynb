{
 "cells": [
  {
   "cell_type": "code",
   "execution_count": 1,
   "id": "872019eb",
   "metadata": {},
   "outputs": [
    {
     "name": "stdout",
     "output_type": "stream",
     "text": [
      "C:\\Users\\KonuTech\\PycharmProjects\\mlops-zoomcamp-training\n"
     ]
    }
   ],
   "source": [
    "cd .."
   ]
  },
  {
   "cell_type": "code",
   "execution_count": 2,
   "id": "46240ede",
   "metadata": {},
   "outputs": [],
   "source": [
    "from IPython.display import display, HTML\n",
    "import warnings"
   ]
  },
  {
   "cell_type": "code",
   "execution_count": 3,
   "id": "f5eb12a9",
   "metadata": {},
   "outputs": [],
   "source": [
    "import mlflow"
   ]
  },
  {
   "cell_type": "code",
   "execution_count": 4,
   "id": "99ecc3cd",
   "metadata": {},
   "outputs": [],
   "source": [
    "from sklearn.linear_model import LogisticRegression\n",
    "from sklearn.datasets import load_iris\n",
    "from sklearn.metrics import accuracy_score"
   ]
  },
  {
   "cell_type": "code",
   "execution_count": 5,
   "id": "1e7aae16",
   "metadata": {},
   "outputs": [],
   "source": [
    "from mlflow.tracking import MlflowClient"
   ]
  },
  {
   "cell_type": "code",
   "execution_count": 6,
   "id": "d4565857",
   "metadata": {},
   "outputs": [],
   "source": [
    "from mlflow.exceptions import MlflowException"
   ]
  },
  {
   "cell_type": "markdown",
   "id": "e11444cb",
   "metadata": {},
   "source": [
    "To run this example you need to launch the mlflow server locally by running the following command in your terminal:\n",
    "\n",
    "mlflow server --backend-store-uri sqlite:///backend.db"
   ]
  },
  {
   "cell_type": "code",
   "execution_count": 7,
   "id": "6df6da88",
   "metadata": {},
   "outputs": [],
   "source": [
    "mlflow.set_tracking_uri(\"http://127.0.0.1:5000\")"
   ]
  },
  {
   "cell_type": "code",
   "execution_count": 8,
   "id": "3f367440",
   "metadata": {},
   "outputs": [
    {
     "name": "stdout",
     "output_type": "stream",
     "text": [
      "tracking URI: 'http://127.0.0.1:5000'\n"
     ]
    }
   ],
   "source": [
    "print(f\"tracking URI: '{mlflow.get_tracking_uri()}'\")"
   ]
  },
  {
   "cell_type": "code",
   "execution_count": 10,
   "id": "0f17181a",
   "metadata": {},
   "outputs": [],
   "source": [
    "# mlflow.list_experiments()"
   ]
  },
  {
   "cell_type": "code",
   "execution_count": 11,
   "id": "c1d701d4",
   "metadata": {},
   "outputs": [
    {
     "name": "stderr",
     "output_type": "stream",
     "text": [
      "2023/05/18 15:43:33 INFO mlflow.tracking.fluent: Experiment with name 'my-experiment-1' does not exist. Creating a new experiment.\n"
     ]
    },
    {
     "data": {
      "text/plain": [
       "<Experiment: artifact_location='mlflow-artifacts:/4', creation_time=1684417413315, experiment_id='4', last_update_time=1684417413315, lifecycle_stage='active', name='my-experiment-1', tags={}>"
      ]
     },
     "execution_count": 11,
     "metadata": {},
     "output_type": "execute_result"
    }
   ],
   "source": [
    "mlflow.set_experiment(\"my-experiment-1\")"
   ]
  },
  {
   "cell_type": "code",
   "execution_count": 12,
   "id": "51ecd0b8",
   "metadata": {},
   "outputs": [
    {
     "name": "stderr",
     "output_type": "stream",
     "text": [
      "C:\\Users\\KonuTech\\PycharmProjects\\mlops-zoomcamp-training\\.venv\\lib\\site-packages\\_distutils_hack\\__init__.py:33: UserWarning: Setuptools is replacing distutils.\n",
      "  warnings.warn(\"Setuptools is replacing distutils.\")\n"
     ]
    },
    {
     "name": "stdout",
     "output_type": "stream",
     "text": [
      "default artifacts URI: 'mlflow-artifacts:/4/8813fbdbe05a4bada5fb6a042faa3a20/artifacts'\n"
     ]
    }
   ],
   "source": [
    "with mlflow.start_run():\n",
    "\n",
    "    X, y = load_iris(return_X_y=True)\n",
    "\n",
    "    params = {\"C\": 0.1, \"random_state\": 42}\n",
    "    mlflow.log_params(params)\n",
    "\n",
    "    lr = LogisticRegression(**params).fit(X, y)\n",
    "    y_pred = lr.predict(X)\n",
    "    mlflow.log_metric(\"accuracy\", accuracy_score(y, y_pred))\n",
    "\n",
    "    mlflow.sklearn.log_model(lr, artifact_path=\"models\")\n",
    "    print(f\"default artifacts URI: '{mlflow.get_artifact_uri()}'\")"
   ]
  },
  {
   "cell_type": "code",
   "execution_count": null,
   "id": "5ad33aed",
   "metadata": {},
   "outputs": [],
   "source": [
    "# mlflow.list_experiments()"
   ]
  },
  {
   "cell_type": "code",
   "execution_count": 13,
   "id": "b3a14b17",
   "metadata": {},
   "outputs": [],
   "source": [
    "client = MlflowClient()"
   ]
  },
  {
   "cell_type": "code",
   "execution_count": 14,
   "id": "6f91157d",
   "metadata": {
    "scrolled": true
   },
   "outputs": [
    {
     "name": "stdout",
     "output_type": "stream",
     "text": [
      "__class__\n",
      "__delattr__\n",
      "__dict__\n",
      "__dir__\n",
      "__doc__\n",
      "__eq__\n",
      "__format__\n",
      "__ge__\n",
      "__getattribute__\n",
      "__gt__\n",
      "__hash__\n",
      "__init__\n",
      "__init_subclass__\n",
      "__le__\n",
      "__lt__\n",
      "__module__\n",
      "__ne__\n",
      "__new__\n",
      "__reduce__\n",
      "__reduce_ex__\n",
      "__repr__\n",
      "__setattr__\n",
      "__sizeof__\n",
      "__str__\n",
      "__subclasshook__\n",
      "__weakref__\n",
      "_get_registry_client\n",
      "_log_artifact_helper\n",
      "_record_logged_model\n",
      "_registry_uri\n",
      "_tracking_client\n",
      "create_experiment\n",
      "create_model_version\n",
      "create_registered_model\n",
      "create_run\n",
      "delete_experiment\n",
      "delete_model_version\n",
      "delete_model_version_tag\n",
      "delete_registered_model\n",
      "delete_registered_model_alias\n",
      "delete_registered_model_tag\n",
      "delete_run\n",
      "delete_tag\n",
      "download_artifacts\n",
      "get_experiment\n",
      "get_experiment_by_name\n",
      "get_latest_versions\n",
      "get_metric_history\n",
      "get_model_version\n",
      "get_model_version_by_alias\n",
      "get_model_version_download_uri\n",
      "get_model_version_stages\n",
      "get_registered_model\n",
      "get_run\n",
      "list_artifacts\n",
      "log_artifact\n",
      "log_artifacts\n",
      "log_batch\n",
      "log_dict\n",
      "log_figure\n",
      "log_image\n",
      "log_metric\n",
      "log_param\n",
      "log_text\n",
      "rename_experiment\n",
      "rename_registered_model\n",
      "restore_experiment\n",
      "restore_run\n",
      "search_experiments\n",
      "search_model_versions\n",
      "search_registered_models\n",
      "search_runs\n",
      "set_experiment_tag\n",
      "set_model_version_tag\n",
      "set_registered_model_alias\n",
      "set_registered_model_tag\n",
      "set_tag\n",
      "set_terminated\n",
      "tracking_uri\n",
      "transition_model_version_stage\n",
      "update_model_version\n",
      "update_registered_model\n",
      "update_run\n"
     ]
    }
   ],
   "source": [
    "# Get the list of available methods and attributes\n",
    "available_methods = dir(client)\n",
    "\n",
    "# Print the list\n",
    "for method in available_methods:\n",
    "    print(method)"
   ]
  },
  {
   "cell_type": "code",
   "execution_count": 15,
   "id": "ba2cf554",
   "metadata": {},
   "outputs": [
    {
     "data": {
      "text/plain": [
       "[<Experiment: artifact_location='mlflow-artifacts:/4', creation_time=1684417413315, experiment_id='4', last_update_time=1684417413315, lifecycle_stage='active', name='my-experiment-1', tags={}>,\n",
       " <Experiment: artifact_location='file:///C:/Users/KonuTech/PycharmProjects/mlops-zoomcamp-training/mlruns/3', creation_time=1684412437973, experiment_id='3', last_update_time=1684412437973, lifecycle_stage='active', name='my-cool-experiment', tags={}>,\n",
       " <Experiment: artifact_location='file:///C:/Users/KonuTech/PycharmProjects/mlops-zoomcamp-training/mlruns/2', creation_time=1684388799134, experiment_id='2', last_update_time=1684388799134, lifecycle_stage='active', name='duration-prediction', tags={}>,\n",
       " <Experiment: artifact_location='file:///C:/Users/KonuTech/PycharmProjects/mlops-zoomcamp-training/mlruns/1', creation_time=1684307915748, experiment_id='1', last_update_time=1684307915748, lifecycle_stage='active', name='duration-prediction-homework', tags={}>]"
      ]
     },
     "execution_count": 15,
     "metadata": {},
     "output_type": "execute_result"
    }
   ],
   "source": [
    "client.search_experiments(order_by=[\"experiment_id DESC\"])"
   ]
  },
  {
   "cell_type": "code",
   "execution_count": 19,
   "id": "556c85ee",
   "metadata": {},
   "outputs": [],
   "source": [
    "runs = client.search_runs(\n",
    "    experiment_ids='4'\n",
    ")"
   ]
  },
  {
   "cell_type": "code",
   "execution_count": 21,
   "id": "9a6c5fd2",
   "metadata": {},
   "outputs": [
    {
     "name": "stdout",
     "output_type": "stream",
     "text": [
      "run id: 8813fbdbe05a4bada5fb6a042faa3a20, accuracy: 0.9600\n"
     ]
    }
   ],
   "source": [
    "for r, run in enumerate(runs):\n",
    "    print(f\"run id: {run.info.run_id}, accuracy: {run.data.metrics['accuracy']:.4f}\")"
   ]
  },
  {
   "cell_type": "code",
   "execution_count": 22,
   "id": "1e049792",
   "metadata": {
    "scrolled": true
   },
   "outputs": [
    {
     "name": "stderr",
     "output_type": "stream",
     "text": [
      "Registered model 'iris-classifier' already exists. Creating a new version of this model...\n",
      "2023/05/18 15:50:22 INFO mlflow.tracking._model_registry.client: Waiting up to 300 seconds for model version to finish creation. Model name: iris-classifier, version 1\n",
      "Created version '1' of model 'iris-classifier'.\n"
     ]
    },
    {
     "data": {
      "text/plain": [
       "<ModelVersion: aliases=[], creation_timestamp=1684417822162, current_stage='None', description='', last_updated_timestamp=1684417822162, name='iris-classifier', run_id='8813fbdbe05a4bada5fb6a042faa3a20', run_link='', source='mlflow-artifacts:/4/8813fbdbe05a4bada5fb6a042faa3a20/artifacts/models', status='READY', status_message='', tags={}, user_id='', version='1'>"
      ]
     },
     "execution_count": 22,
     "metadata": {},
     "output_type": "execute_result"
    }
   ],
   "source": [
    "run_id = \"8813fbdbe05a4bada5fb6a042faa3a20\"\n",
    "model_uri = f\"runs:/{run_id}/models\"\n",
    "mlflow.register_model(model_uri=model_uri, name=\"iris-classifier\")"
   ]
  },
  {
   "cell_type": "code",
   "execution_count": null,
   "id": "36c35ee0",
   "metadata": {},
   "outputs": [],
   "source": []
  }
 ],
 "metadata": {
  "kernelspec": {
   "display_name": "Python 3 (ipykernel)",
   "language": "python",
   "name": "python3"
  },
  "language_info": {
   "codemirror_mode": {
    "name": "ipython",
    "version": 3
   },
   "file_extension": ".py",
   "mimetype": "text/x-python",
   "name": "python",
   "nbconvert_exporter": "python",
   "pygments_lexer": "ipython3",
   "version": "3.9.3"
  }
 },
 "nbformat": 4,
 "nbformat_minor": 5
}
