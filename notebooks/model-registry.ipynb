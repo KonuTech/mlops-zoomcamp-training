{
 "cells": [
  {
   "cell_type": "code",
   "execution_count": 1,
   "id": "04bcdff6",
   "metadata": {},
   "outputs": [],
   "source": [
    "from IPython.display import display, HTML\n",
    "import warnings"
   ]
  },
  {
   "cell_type": "code",
   "execution_count": 2,
   "id": "c0ea21a7",
   "metadata": {},
   "outputs": [
    {
     "name": "stdout",
     "output_type": "stream",
     "text": [
      "2.3.2\n"
     ]
    }
   ],
   "source": [
    "import mlflow\n",
    "\n",
    "# Print the MLflow version\n",
    "print(mlflow.__version__)"
   ]
  },
  {
   "cell_type": "code",
   "execution_count": 3,
   "id": "7213e638",
   "metadata": {},
   "outputs": [],
   "source": [
    "from mlflow.tracking import MlflowClient"
   ]
  },
  {
   "cell_type": "code",
   "execution_count": 4,
   "id": "18e23848",
   "metadata": {},
   "outputs": [],
   "source": [
    "from mlflow.entities import ViewType"
   ]
  },
  {
   "cell_type": "code",
   "execution_count": 22,
   "id": "4fb6138c",
   "metadata": {},
   "outputs": [],
   "source": [
    "from datetime import datetime"
   ]
  },
  {
   "cell_type": "code",
   "execution_count": 5,
   "id": "4029ae9f",
   "metadata": {},
   "outputs": [
    {
     "name": "stdout",
     "output_type": "stream",
     "text": [
      "C:\\Users\\KonuTech\\PycharmProjects\\mlops-zoomcamp-training\n"
     ]
    }
   ],
   "source": [
    "cd .."
   ]
  },
  {
   "cell_type": "code",
   "execution_count": 6,
   "id": "a05c3e93",
   "metadata": {},
   "outputs": [],
   "source": [
    "MLFLOW_TRACKING_URI = \"sqlite:///mlflow.db\""
   ]
  },
  {
   "cell_type": "code",
   "execution_count": 7,
   "id": "99aa944d",
   "metadata": {},
   "outputs": [],
   "source": [
    "client = MlflowClient(tracking_uri=MLFLOW_TRACKING_URI)"
   ]
  },
  {
   "cell_type": "code",
   "execution_count": 8,
   "id": "42b1d943",
   "metadata": {
    "scrolled": true
   },
   "outputs": [
    {
     "name": "stdout",
     "output_type": "stream",
     "text": [
      "__class__\n",
      "__delattr__\n",
      "__dict__\n",
      "__dir__\n",
      "__doc__\n",
      "__eq__\n",
      "__format__\n",
      "__ge__\n",
      "__getattribute__\n",
      "__gt__\n",
      "__hash__\n",
      "__init__\n",
      "__init_subclass__\n",
      "__le__\n",
      "__lt__\n",
      "__module__\n",
      "__ne__\n",
      "__new__\n",
      "__reduce__\n",
      "__reduce_ex__\n",
      "__repr__\n",
      "__setattr__\n",
      "__sizeof__\n",
      "__str__\n",
      "__subclasshook__\n",
      "__weakref__\n",
      "_get_registry_client\n",
      "_log_artifact_helper\n",
      "_record_logged_model\n",
      "_registry_uri\n",
      "_tracking_client\n",
      "create_experiment\n",
      "create_model_version\n",
      "create_registered_model\n",
      "create_run\n",
      "delete_experiment\n",
      "delete_model_version\n",
      "delete_model_version_tag\n",
      "delete_registered_model\n",
      "delete_registered_model_alias\n",
      "delete_registered_model_tag\n",
      "delete_run\n",
      "delete_tag\n",
      "download_artifacts\n",
      "get_experiment\n",
      "get_experiment_by_name\n",
      "get_latest_versions\n",
      "get_metric_history\n",
      "get_model_version\n",
      "get_model_version_by_alias\n",
      "get_model_version_download_uri\n",
      "get_model_version_stages\n",
      "get_registered_model\n",
      "get_run\n",
      "list_artifacts\n",
      "log_artifact\n",
      "log_artifacts\n",
      "log_batch\n",
      "log_dict\n",
      "log_figure\n",
      "log_image\n",
      "log_metric\n",
      "log_param\n",
      "log_text\n",
      "rename_experiment\n",
      "rename_registered_model\n",
      "restore_experiment\n",
      "restore_run\n",
      "search_experiments\n",
      "search_model_versions\n",
      "search_registered_models\n",
      "search_runs\n",
      "set_experiment_tag\n",
      "set_model_version_tag\n",
      "set_registered_model_alias\n",
      "set_registered_model_tag\n",
      "set_tag\n",
      "set_terminated\n",
      "tracking_uri\n",
      "transition_model_version_stage\n",
      "update_model_version\n",
      "update_registered_model\n",
      "update_run\n"
     ]
    }
   ],
   "source": [
    "# Get the list of available methods and attributes\n",
    "available_methods = dir(client)\n",
    "\n",
    "# Print the list\n",
    "for method in available_methods:\n",
    "    print(method)"
   ]
  },
  {
   "cell_type": "markdown",
   "id": "17e7c37a",
   "metadata": {},
   "source": [
    "### Interacting with the MLflow tracking server"
   ]
  },
  {
   "cell_type": "code",
   "execution_count": 9,
   "id": "d3eb7fb3",
   "metadata": {},
   "outputs": [
    {
     "data": {
      "text/plain": [
       "[<Experiment: artifact_location='file:///C:/Users/KonuTech/PycharmProjects/mlops-zoomcamp-training/mlruns/2', creation_time=1684388799134, experiment_id='2', last_update_time=1684388799134, lifecycle_stage='active', name='duration-prediction', tags={}>,\n",
       " <Experiment: artifact_location='file:///C:/Users/KonuTech/PycharmProjects/mlops-zoomcamp-training/mlruns/1', creation_time=1684307915748, experiment_id='1', last_update_time=1684307915748, lifecycle_stage='active', name='duration-prediction-homework', tags={}>]"
      ]
     },
     "execution_count": 9,
     "metadata": {},
     "output_type": "execute_result"
    }
   ],
   "source": [
    "client.search_experiments(order_by=[\"experiment_id DESC\"])"
   ]
  },
  {
   "cell_type": "code",
   "execution_count": 11,
   "id": "48ad7439",
   "metadata": {},
   "outputs": [
    {
     "data": {
      "text/plain": [
       "'3'"
      ]
     },
     "execution_count": 11,
     "metadata": {},
     "output_type": "execute_result"
    }
   ],
   "source": [
    "client.create_experiment(name=\"my-cool-experiment\")"
   ]
  },
  {
   "cell_type": "code",
   "execution_count": 12,
   "id": "13ac8ad4",
   "metadata": {},
   "outputs": [],
   "source": [
    "runs = client.search_runs(\n",
    "    experiment_ids='1',\n",
    "    filter_string=\"metrics.rmse < 7\",\n",
    "    run_view_type=ViewType.ACTIVE_ONLY,\n",
    "    max_results=5,\n",
    "    order_by=[\"metrics.rmse ASC\"]\n",
    ")"
   ]
  },
  {
   "cell_type": "code",
   "execution_count": 14,
   "id": "8d3138ae",
   "metadata": {
    "scrolled": true
   },
   "outputs": [
    {
     "data": {
      "text/plain": [
       "[<Run: data=<RunData: metrics={'rmse': 4.791062660576858}, params={'learning_rate': '0.2027270019188835',\n",
       "  'max_depth': '11',\n",
       "  'min_child_weight': '9.498814078399025',\n",
       "  'objective': 'reg:linear',\n",
       "  'reg_alpha': '0.05903805330249986',\n",
       "  'reg_lambda': '0.026935158747484356',\n",
       "  'seed': '42'}, tags={'mlflow.log-model.history': '[{\"run_id\": \"80fce15eb4244fd4b6ac3a4d0f2290c3\", '\n",
       "                              '\"artifact_path\": \"models_mlflow\", '\n",
       "                              '\"utc_time_created\": \"2023-05-17 '\n",
       "                              '19:51:16.464479\", \"flavors\": {\"python_function\": '\n",
       "                              '{\"loader_module\": \"mlflow.xgboost\", '\n",
       "                              '\"python_version\": \"3.9.3\", \"data\": \"model.xgb\", '\n",
       "                              '\"env\": {\"conda\": \"conda.yaml\", \"virtualenv\": '\n",
       "                              '\"python_env.yaml\"}}, \"xgboost\": {\"xgb_version\": '\n",
       "                              '\"1.7.5\", \"data\": \"model.xgb\", \"model_class\": '\n",
       "                              '\"xgboost.core.Booster\", \"model_format\": \"xgb\", '\n",
       "                              '\"code\": null}}, \"model_uuid\": '\n",
       "                              '\"076d88a3d1bd4f279ad76c4ecde6c465\", '\n",
       "                              '\"mlflow_version\": \"2.3.2\"}]',\n",
       "  'mlflow.runName': 'dapper-conch-33',\n",
       "  'mlflow.source.git.commit': '4f081feff55f9f92b55ed9f092046aae54bcab83',\n",
       "  'mlflow.source.name': 'C:\\\\Users\\\\KonuTech\\\\PycharmProjects\\\\mlops-zoomcamp-training\\\\.venv\\\\lib\\\\site-packages\\\\ipykernel_launcher.py',\n",
       "  'mlflow.source.type': 'LOCAL',\n",
       "  'mlflow.user': 'KonuTech'}>, info=<RunInfo: artifact_uri='file:///C:/Users/KonuTech/PycharmProjects/mlops-zoomcamp-training/mlruns/1/80fce15eb4244fd4b6ac3a4d0f2290c3/artifacts', end_time=1684353079270, experiment_id='1', lifecycle_stage='active', run_id='80fce15eb4244fd4b6ac3a4d0f2290c3', run_name='dapper-conch-33', run_uuid='80fce15eb4244fd4b6ac3a4d0f2290c3', start_time=1684351788568, status='FINISHED', user_id='KonuTech'>>,\n",
       " <Run: data=<RunData: metrics={'rmse': 4.791062660576858}, params={'learning_rate': '0.2027270019188835',\n",
       "  'max_depth': '11',\n",
       "  'min_child_weight': '9.498814078399025',\n",
       "  'objective': 'reg:linear',\n",
       "  'reg_alpha': '0.05903805330249986',\n",
       "  'reg_lambda': '0.026935158747484356',\n",
       "  'seed': '42'}, tags={'mlflow.runName': 'rogue-yak-963',\n",
       "  'mlflow.source.git.commit': '4f081feff55f9f92b55ed9f092046aae54bcab83',\n",
       "  'mlflow.source.name': 'C:\\\\Users\\\\KonuTech\\\\PycharmProjects\\\\mlops-zoomcamp-training\\\\.venv\\\\lib\\\\site-packages\\\\ipykernel_launcher.py',\n",
       "  'mlflow.source.type': 'LOCAL',\n",
       "  'mlflow.user': 'KonuTech'}>, info=<RunInfo: artifact_uri='file:///C:/Users/KonuTech/PycharmProjects/mlops-zoomcamp-training/mlruns/1/0b14297532c343b19eeb5ec1f422f5ad/artifacts', end_time=1684351331334, experiment_id='1', lifecycle_stage='active', run_id='0b14297532c343b19eeb5ec1f422f5ad', run_name='rogue-yak-963', run_uuid='0b14297532c343b19eeb5ec1f422f5ad', start_time=1684350091311, status='FAILED', user_id='KonuTech'>>,\n",
       " <Run: data=<RunData: metrics={'rmse': 4.791062660576858}, params={'learning_rate': '0.2027270019188835',\n",
       "  'max_depth': '11',\n",
       "  'min_child_weight': '9.498814078399025',\n",
       "  'objective': 'reg:linear',\n",
       "  'reg_alpha': '0.05903805330249986',\n",
       "  'reg_lambda': '0.026935158747484356',\n",
       "  'seed': '42'}, tags={'mlflow.runName': 'dapper-wolf-248',\n",
       "  'mlflow.source.git.commit': '4f081feff55f9f92b55ed9f092046aae54bcab83',\n",
       "  'mlflow.source.name': 'C:\\\\Users\\\\KonuTech\\\\PycharmProjects\\\\mlops-zoomcamp-training\\\\.venv\\\\lib\\\\site-packages\\\\ipykernel_launcher.py',\n",
       "  'mlflow.source.type': 'LOCAL',\n",
       "  'mlflow.user': 'KonuTech',\n",
       "  'model': 'xgboost'}>, info=<RunInfo: artifact_uri='file:///C:/Users/KonuTech/PycharmProjects/mlops-zoomcamp-training/mlruns/1/5212d0d698c046d1b8bc7461dc4f658c/artifacts', end_time=1684338815640, experiment_id='1', lifecycle_stage='active', run_id='5212d0d698c046d1b8bc7461dc4f658c', run_name='dapper-wolf-248', run_uuid='5212d0d698c046d1b8bc7461dc4f658c', start_time=1684337770801, status='FINISHED', user_id='KonuTech'>>,\n",
       " <Run: data=<RunData: metrics={'rmse': 4.793050346292389}, params={'learning_rate': '0.1597986152862836',\n",
       "  'max_depth': '13',\n",
       "  'min_child_weight': '15.89312366774702',\n",
       "  'objective': 'reg:linear',\n",
       "  'reg_alpha': '0.060009292542621245',\n",
       "  'reg_lambda': '0.025573869315758155',\n",
       "  'seed': '42'}, tags={'mlflow.runName': 'persistent-bug-435',\n",
       "  'mlflow.source.git.commit': '4f081feff55f9f92b55ed9f092046aae54bcab83',\n",
       "  'mlflow.source.name': 'C:\\\\Users\\\\KonuTech\\\\PycharmProjects\\\\mlops-zoomcamp-training\\\\.venv\\\\lib\\\\site-packages\\\\ipykernel_launcher.py',\n",
       "  'mlflow.source.type': 'LOCAL',\n",
       "  'mlflow.user': 'KonuTech',\n",
       "  'model': 'xgboost'}>, info=<RunInfo: artifact_uri='file:///C:/Users/KonuTech/PycharmProjects/mlops-zoomcamp-training/mlruns/1/361f45fff7e54aef8b45e42e5e285db3/artifacts', end_time=1684329711007, experiment_id='1', lifecycle_stage='active', run_id='361f45fff7e54aef8b45e42e5e285db3', run_name='persistent-bug-435', run_uuid='361f45fff7e54aef8b45e42e5e285db3', start_time=1684328379308, status='FINISHED', user_id='KonuTech'>>,\n",
       " <Run: data=<RunData: metrics={'rmse': 4.793107113315715}, params={'learning_rate': '0.17013885820069322',\n",
       "  'max_depth': '11',\n",
       "  'min_child_weight': '8.675238183176928',\n",
       "  'objective': 'reg:linear',\n",
       "  'reg_alpha': '0.057220584714422706',\n",
       "  'reg_lambda': '0.025775573202082368',\n",
       "  'seed': '42'}, tags={'mlflow.runName': 'nebulous-smelt-649',\n",
       "  'mlflow.source.git.commit': '4f081feff55f9f92b55ed9f092046aae54bcab83',\n",
       "  'mlflow.source.name': 'C:\\\\Users\\\\KonuTech\\\\PycharmProjects\\\\mlops-zoomcamp-training\\\\.venv\\\\lib\\\\site-packages\\\\ipykernel_launcher.py',\n",
       "  'mlflow.source.type': 'LOCAL',\n",
       "  'mlflow.user': 'KonuTech',\n",
       "  'model': 'xgboost'}>, info=<RunInfo: artifact_uri='file:///C:/Users/KonuTech/PycharmProjects/mlops-zoomcamp-training/mlruns/1/726a6c5750aa471d893948dcd804f82c/artifacts', end_time=1684330907735, experiment_id='1', lifecycle_stage='active', run_id='726a6c5750aa471d893948dcd804f82c', run_name='nebulous-smelt-649', run_uuid='726a6c5750aa471d893948dcd804f82c', start_time=1684329711058, status='FINISHED', user_id='KonuTech'>>]"
      ]
     },
     "execution_count": 14,
     "metadata": {},
     "output_type": "execute_result"
    }
   ],
   "source": [
    "runs"
   ]
  },
  {
   "cell_type": "code",
   "execution_count": 13,
   "id": "f47f63dd",
   "metadata": {},
   "outputs": [
    {
     "name": "stdout",
     "output_type": "stream",
     "text": [
      "run id: 80fce15eb4244fd4b6ac3a4d0f2290c3, rmse: 4.7911\n",
      "run id: 0b14297532c343b19eeb5ec1f422f5ad, rmse: 4.7911\n",
      "run id: 5212d0d698c046d1b8bc7461dc4f658c, rmse: 4.7911\n",
      "run id: 361f45fff7e54aef8b45e42e5e285db3, rmse: 4.7931\n",
      "run id: 726a6c5750aa471d893948dcd804f82c, rmse: 4.7931\n"
     ]
    }
   ],
   "source": [
    "for r, run in enumerate(runs):\n",
    "    print(f\"run id: {run.info.run_id}, rmse: {run.data.metrics['rmse']:.4f}\")"
   ]
  },
  {
   "cell_type": "markdown",
   "id": "17a18975",
   "metadata": {},
   "source": [
    "### Interacting with the Model Registry"
   ]
  },
  {
   "cell_type": "code",
   "execution_count": 15,
   "id": "e3667561",
   "metadata": {},
   "outputs": [],
   "source": [
    "mlflow.set_tracking_uri(MLFLOW_TRACKING_URI)"
   ]
  },
  {
   "cell_type": "code",
   "execution_count": 16,
   "id": "167585c6",
   "metadata": {},
   "outputs": [
    {
     "name": "stderr",
     "output_type": "stream",
     "text": [
      "Registered model 'nyc-taxi-regressor' already exists. Creating a new version of this model...\n",
      "2023/05/18 14:23:48 INFO mlflow.tracking._model_registry.client: Waiting up to 300 seconds for model version to finish creation. Model name: nyc-taxi-regressor, version 4\n",
      "Created version '4' of model 'nyc-taxi-regressor'.\n"
     ]
    },
    {
     "data": {
      "text/plain": [
       "<ModelVersion: aliases=[], creation_timestamp=1684412628922, current_stage='None', description=None, last_updated_timestamp=1684412628922, name='nyc-taxi-regressor', run_id='7aa27c3f85b9474d811bba5b9c7d4002', run_link=None, source='file:///C:/Users/KonuTech/PycharmProjects/mlops-zoomcamp-training/mlruns/2/7aa27c3f85b9474d811bba5b9c7d4002/artifacts/models_mlflow', status='READY', status_message=None, tags={}, user_id=None, version=4>"
      ]
     },
     "execution_count": 16,
     "metadata": {},
     "output_type": "execute_result"
    }
   ],
   "source": [
    "run_id = \"7aa27c3f85b9474d811bba5b9c7d4002\"\n",
    "model_uri = f\"runs:/{run_id}/models_mlflow\"\n",
    "mlflow.register_model(model_uri=model_uri, name=\"nyc-taxi-regressor\")"
   ]
  },
  {
   "cell_type": "code",
   "execution_count": 17,
   "id": "940b8e95",
   "metadata": {},
   "outputs": [
    {
     "data": {
      "text/plain": [
       "[<FileInfo: file_size=None, is_dir=True, path='models_mlflow'>,\n",
       " <FileInfo: file_size=None, is_dir=True, path='preprocessor'>]"
      ]
     },
     "execution_count": 17,
     "metadata": {},
     "output_type": "execute_result"
    }
   ],
   "source": [
    "client.list_artifacts(run_id)"
   ]
  },
  {
   "cell_type": "code",
   "execution_count": 18,
   "id": "bd7bfe5a",
   "metadata": {},
   "outputs": [],
   "source": [
    "model_name = \"nyc-taxi-regressor\"\n",
    "latest_versions = client.get_latest_versions(name=model_name)"
   ]
  },
  {
   "cell_type": "code",
   "execution_count": 19,
   "id": "9dc62fa5",
   "metadata": {},
   "outputs": [
    {
     "name": "stdout",
     "output_type": "stream",
     "text": [
      "version: 3, stage: Staging\n",
      "version: 2, stage: Archived\n",
      "version: 4, stage: None\n"
     ]
    }
   ],
   "source": [
    "for version in latest_versions:\n",
    "    print(f\"version: {version.version}, stage: {version.current_stage}\")"
   ]
  },
  {
   "cell_type": "code",
   "execution_count": 20,
   "id": "032ec798",
   "metadata": {},
   "outputs": [],
   "source": [
    "model_version = 4\n",
    "new_stage = \"Staging\""
   ]
  },
  {
   "cell_type": "code",
   "execution_count": 21,
   "id": "82e7af34",
   "metadata": {},
   "outputs": [
    {
     "data": {
      "text/plain": [
       "<ModelVersion: aliases=[], creation_timestamp=1684412628922, current_stage='Staging', description=None, last_updated_timestamp=1684412915609, name='nyc-taxi-regressor', run_id='7aa27c3f85b9474d811bba5b9c7d4002', run_link=None, source='file:///C:/Users/KonuTech/PycharmProjects/mlops-zoomcamp-training/mlruns/2/7aa27c3f85b9474d811bba5b9c7d4002/artifacts/models_mlflow', status='READY', status_message=None, tags={}, user_id=None, version=4>"
      ]
     },
     "execution_count": 21,
     "metadata": {},
     "output_type": "execute_result"
    }
   ],
   "source": [
    "client.transition_model_version_stage(\n",
    "    name=model_name,\n",
    "    version=model_version,\n",
    "    stage=new_stage,\n",
    "    archive_existing_versions=False\n",
    ")"
   ]
  },
  {
   "cell_type": "code",
   "execution_count": 23,
   "id": "e8cc1f67",
   "metadata": {},
   "outputs": [],
   "source": [
    "date = datetime.today().date()"
   ]
  },
  {
   "cell_type": "code",
   "execution_count": 24,
   "id": "67bf9598",
   "metadata": {},
   "outputs": [
    {
     "data": {
      "text/plain": [
       "<ModelVersion: aliases=[], creation_timestamp=1684412628922, current_stage='Staging', description='The model version 4 was transitioned to Staging on 2023-05-18', last_updated_timestamp=1684413002654, name='nyc-taxi-regressor', run_id='7aa27c3f85b9474d811bba5b9c7d4002', run_link=None, source='file:///C:/Users/KonuTech/PycharmProjects/mlops-zoomcamp-training/mlruns/2/7aa27c3f85b9474d811bba5b9c7d4002/artifacts/models_mlflow', status='READY', status_message=None, tags={}, user_id=None, version=4>"
      ]
     },
     "execution_count": 24,
     "metadata": {},
     "output_type": "execute_result"
    }
   ],
   "source": [
    "client.update_model_version(\n",
    "    name=model_name,\n",
    "    version=model_version,\n",
    "    description=f\"The model version {model_version} was transitioned to {new_stage} on {date}\"\n",
    ")"
   ]
  },
  {
   "cell_type": "markdown",
   "id": "df4e70a8",
   "metadata": {},
   "source": [
    "### Comparing versions and selecting the new \"Production\" model"
   ]
  },
  {
   "cell_type": "code",
   "execution_count": null,
   "id": "6c37880c",
   "metadata": {},
   "outputs": [],
   "source": []
  }
 ],
 "metadata": {
  "kernelspec": {
   "display_name": "Python 3 (ipykernel)",
   "language": "python",
   "name": "python3"
  },
  "language_info": {
   "codemirror_mode": {
    "name": "ipython",
    "version": 3
   },
   "file_extension": ".py",
   "mimetype": "text/x-python",
   "name": "python",
   "nbconvert_exporter": "python",
   "pygments_lexer": "ipython3",
   "version": "3.9.3"
  }
 },
 "nbformat": 4,
 "nbformat_minor": 5
}
