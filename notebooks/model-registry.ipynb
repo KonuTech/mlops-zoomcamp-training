{
 "cells": [
  {
   "cell_type": "code",
   "execution_count": 38,
   "id": "e3c390c3",
   "metadata": {},
   "outputs": [],
   "source": [
    "import os\n",
    "import pickle"
   ]
  },
  {
   "cell_type": "code",
   "execution_count": 1,
   "id": "ced5358d",
   "metadata": {},
   "outputs": [],
   "source": [
    "from IPython.display import display, HTML\n",
    "import warnings"
   ]
  },
  {
   "cell_type": "code",
   "execution_count": 2,
   "id": "0de67e2b",
   "metadata": {},
   "outputs": [
    {
     "name": "stdout",
     "output_type": "stream",
     "text": [
      "2.3.2\n"
     ]
    }
   ],
   "source": [
    "import mlflow\n",
    "\n",
    "# Print the MLflow version\n",
    "print(mlflow.__version__)"
   ]
  },
  {
   "cell_type": "code",
   "execution_count": 3,
   "id": "301f11e2",
   "metadata": {},
   "outputs": [],
   "source": [
    "from mlflow.tracking import MlflowClient"
   ]
  },
  {
   "cell_type": "code",
   "execution_count": 4,
   "id": "de7c382e",
   "metadata": {},
   "outputs": [],
   "source": [
    "from mlflow.entities import ViewType"
   ]
  },
  {
   "cell_type": "code",
   "execution_count": 22,
   "id": "f9d1c501",
   "metadata": {},
   "outputs": [],
   "source": [
    "from datetime import datetime"
   ]
  },
  {
   "cell_type": "code",
   "execution_count": 25,
   "id": "53d9a384",
   "metadata": {},
   "outputs": [],
   "source": [
    "from sklearn.metrics import mean_squared_error\n",
    "import pandas as pd"
   ]
  },
  {
   "cell_type": "code",
   "execution_count": 5,
   "id": "9afd808a",
   "metadata": {},
   "outputs": [
    {
     "name": "stdout",
     "output_type": "stream",
     "text": [
      "C:\\Users\\KonuTech\\PycharmProjects\\mlops-zoomcamp-training\n"
     ]
    }
   ],
   "source": [
    "cd .."
   ]
  },
  {
   "cell_type": "code",
   "execution_count": 30,
   "id": "7c384237",
   "metadata": {},
   "outputs": [],
   "source": [
    "VALIDATION = 'green_tripdata_2021-03.parquet'"
   ]
  },
  {
   "cell_type": "code",
   "execution_count": 33,
   "id": "0a025ac9",
   "metadata": {},
   "outputs": [
    {
     "name": "stdout",
     "output_type": "stream",
     "text": [
      "C:\\Users\\KonuTech\\PycharmProjects\\mlops-zoomcamp-training\\INPUTS\\green_tripdata_2021-03.parquet\n"
     ]
    }
   ],
   "source": [
    "# Get the absolute path of the file within the INPUTS directory\n",
    "FILE_PATH_VALIDATION = os.path.join(os.getcwd(), 'INPUTS', VALIDATION)\n",
    "\n",
    "# Print the file path\n",
    "print(FILE_PATH_VALIDATION)"
   ]
  },
  {
   "cell_type": "code",
   "execution_count": 6,
   "id": "983ea05b",
   "metadata": {},
   "outputs": [],
   "source": [
    "MLFLOW_TRACKING_URI = \"sqlite:///mlflow.db\""
   ]
  },
  {
   "cell_type": "code",
   "execution_count": 7,
   "id": "28fe6eab",
   "metadata": {},
   "outputs": [],
   "source": [
    "client = MlflowClient(tracking_uri=MLFLOW_TRACKING_URI)"
   ]
  },
  {
   "cell_type": "code",
   "execution_count": 8,
   "id": "0d5ba379",
   "metadata": {
    "scrolled": true
   },
   "outputs": [
    {
     "name": "stdout",
     "output_type": "stream",
     "text": [
      "__class__\n",
      "__delattr__\n",
      "__dict__\n",
      "__dir__\n",
      "__doc__\n",
      "__eq__\n",
      "__format__\n",
      "__ge__\n",
      "__getattribute__\n",
      "__gt__\n",
      "__hash__\n",
      "__init__\n",
      "__init_subclass__\n",
      "__le__\n",
      "__lt__\n",
      "__module__\n",
      "__ne__\n",
      "__new__\n",
      "__reduce__\n",
      "__reduce_ex__\n",
      "__repr__\n",
      "__setattr__\n",
      "__sizeof__\n",
      "__str__\n",
      "__subclasshook__\n",
      "__weakref__\n",
      "_get_registry_client\n",
      "_log_artifact_helper\n",
      "_record_logged_model\n",
      "_registry_uri\n",
      "_tracking_client\n",
      "create_experiment\n",
      "create_model_version\n",
      "create_registered_model\n",
      "create_run\n",
      "delete_experiment\n",
      "delete_model_version\n",
      "delete_model_version_tag\n",
      "delete_registered_model\n",
      "delete_registered_model_alias\n",
      "delete_registered_model_tag\n",
      "delete_run\n",
      "delete_tag\n",
      "download_artifacts\n",
      "get_experiment\n",
      "get_experiment_by_name\n",
      "get_latest_versions\n",
      "get_metric_history\n",
      "get_model_version\n",
      "get_model_version_by_alias\n",
      "get_model_version_download_uri\n",
      "get_model_version_stages\n",
      "get_registered_model\n",
      "get_run\n",
      "list_artifacts\n",
      "log_artifact\n",
      "log_artifacts\n",
      "log_batch\n",
      "log_dict\n",
      "log_figure\n",
      "log_image\n",
      "log_metric\n",
      "log_param\n",
      "log_text\n",
      "rename_experiment\n",
      "rename_registered_model\n",
      "restore_experiment\n",
      "restore_run\n",
      "search_experiments\n",
      "search_model_versions\n",
      "search_registered_models\n",
      "search_runs\n",
      "set_experiment_tag\n",
      "set_model_version_tag\n",
      "set_registered_model_alias\n",
      "set_registered_model_tag\n",
      "set_tag\n",
      "set_terminated\n",
      "tracking_uri\n",
      "transition_model_version_stage\n",
      "update_model_version\n",
      "update_registered_model\n",
      "update_run\n"
     ]
    }
   ],
   "source": [
    "# Get the list of available methods and attributes\n",
    "available_methods = dir(client)\n",
    "\n",
    "# Print the list\n",
    "for method in available_methods:\n",
    "    print(method)"
   ]
  },
  {
   "cell_type": "markdown",
   "id": "6698affc",
   "metadata": {},
   "source": [
    "### Interacting with the MLflow tracking server"
   ]
  },
  {
   "cell_type": "code",
   "execution_count": 9,
   "id": "7dc4555b",
   "metadata": {},
   "outputs": [
    {
     "data": {
      "text/plain": [
       "[<Experiment: artifact_location='file:///C:/Users/KonuTech/PycharmProjects/mlops-zoomcamp-training/mlruns/2', creation_time=1684388799134, experiment_id='2', last_update_time=1684388799134, lifecycle_stage='active', name='duration-prediction', tags={}>,\n",
       " <Experiment: artifact_location='file:///C:/Users/KonuTech/PycharmProjects/mlops-zoomcamp-training/mlruns/1', creation_time=1684307915748, experiment_id='1', last_update_time=1684307915748, lifecycle_stage='active', name='duration-prediction-homework', tags={}>]"
      ]
     },
     "execution_count": 9,
     "metadata": {},
     "output_type": "execute_result"
    }
   ],
   "source": [
    "client.search_experiments(order_by=[\"experiment_id DESC\"])"
   ]
  },
  {
   "cell_type": "code",
   "execution_count": 11,
   "id": "313bc6cd",
   "metadata": {},
   "outputs": [
    {
     "data": {
      "text/plain": [
       "'3'"
      ]
     },
     "execution_count": 11,
     "metadata": {},
     "output_type": "execute_result"
    }
   ],
   "source": [
    "client.create_experiment(name=\"my-cool-experiment\")"
   ]
  },
  {
   "cell_type": "code",
   "execution_count": 12,
   "id": "7aac12a2",
   "metadata": {},
   "outputs": [],
   "source": [
    "runs = client.search_runs(\n",
    "    experiment_ids='1',\n",
    "    filter_string=\"metrics.rmse < 7\",\n",
    "    run_view_type=ViewType.ACTIVE_ONLY,\n",
    "    max_results=5,\n",
    "    order_by=[\"metrics.rmse ASC\"]\n",
    ")"
   ]
  },
  {
   "cell_type": "code",
   "execution_count": 14,
   "id": "e379acac",
   "metadata": {
    "scrolled": true
   },
   "outputs": [
    {
     "data": {
      "text/plain": [
       "[<Run: data=<RunData: metrics={'rmse': 4.791062660576858}, params={'learning_rate': '0.2027270019188835',\n",
       "  'max_depth': '11',\n",
       "  'min_child_weight': '9.498814078399025',\n",
       "  'objective': 'reg:linear',\n",
       "  'reg_alpha': '0.05903805330249986',\n",
       "  'reg_lambda': '0.026935158747484356',\n",
       "  'seed': '42'}, tags={'mlflow.log-model.history': '[{\"run_id\": \"80fce15eb4244fd4b6ac3a4d0f2290c3\", '\n",
       "                              '\"artifact_path\": \"models_mlflow\", '\n",
       "                              '\"utc_time_created\": \"2023-05-17 '\n",
       "                              '19:51:16.464479\", \"flavors\": {\"python_function\": '\n",
       "                              '{\"loader_module\": \"mlflow.xgboost\", '\n",
       "                              '\"python_version\": \"3.9.3\", \"data\": \"model.xgb\", '\n",
       "                              '\"env\": {\"conda\": \"conda.yaml\", \"virtualenv\": '\n",
       "                              '\"python_env.yaml\"}}, \"xgboost\": {\"xgb_version\": '\n",
       "                              '\"1.7.5\", \"data\": \"model.xgb\", \"model_class\": '\n",
       "                              '\"xgboost.core.Booster\", \"model_format\": \"xgb\", '\n",
       "                              '\"code\": null}}, \"model_uuid\": '\n",
       "                              '\"076d88a3d1bd4f279ad76c4ecde6c465\", '\n",
       "                              '\"mlflow_version\": \"2.3.2\"}]',\n",
       "  'mlflow.runName': 'dapper-conch-33',\n",
       "  'mlflow.source.git.commit': '4f081feff55f9f92b55ed9f092046aae54bcab83',\n",
       "  'mlflow.source.name': 'C:\\\\Users\\\\KonuTech\\\\PycharmProjects\\\\mlops-zoomcamp-training\\\\.venv\\\\lib\\\\site-packages\\\\ipykernel_launcher.py',\n",
       "  'mlflow.source.type': 'LOCAL',\n",
       "  'mlflow.user': 'KonuTech'}>, info=<RunInfo: artifact_uri='file:///C:/Users/KonuTech/PycharmProjects/mlops-zoomcamp-training/mlruns/1/80fce15eb4244fd4b6ac3a4d0f2290c3/artifacts', end_time=1684353079270, experiment_id='1', lifecycle_stage='active', run_id='80fce15eb4244fd4b6ac3a4d0f2290c3', run_name='dapper-conch-33', run_uuid='80fce15eb4244fd4b6ac3a4d0f2290c3', start_time=1684351788568, status='FINISHED', user_id='KonuTech'>>,\n",
       " <Run: data=<RunData: metrics={'rmse': 4.791062660576858}, params={'learning_rate': '0.2027270019188835',\n",
       "  'max_depth': '11',\n",
       "  'min_child_weight': '9.498814078399025',\n",
       "  'objective': 'reg:linear',\n",
       "  'reg_alpha': '0.05903805330249986',\n",
       "  'reg_lambda': '0.026935158747484356',\n",
       "  'seed': '42'}, tags={'mlflow.runName': 'rogue-yak-963',\n",
       "  'mlflow.source.git.commit': '4f081feff55f9f92b55ed9f092046aae54bcab83',\n",
       "  'mlflow.source.name': 'C:\\\\Users\\\\KonuTech\\\\PycharmProjects\\\\mlops-zoomcamp-training\\\\.venv\\\\lib\\\\site-packages\\\\ipykernel_launcher.py',\n",
       "  'mlflow.source.type': 'LOCAL',\n",
       "  'mlflow.user': 'KonuTech'}>, info=<RunInfo: artifact_uri='file:///C:/Users/KonuTech/PycharmProjects/mlops-zoomcamp-training/mlruns/1/0b14297532c343b19eeb5ec1f422f5ad/artifacts', end_time=1684351331334, experiment_id='1', lifecycle_stage='active', run_id='0b14297532c343b19eeb5ec1f422f5ad', run_name='rogue-yak-963', run_uuid='0b14297532c343b19eeb5ec1f422f5ad', start_time=1684350091311, status='FAILED', user_id='KonuTech'>>,\n",
       " <Run: data=<RunData: metrics={'rmse': 4.791062660576858}, params={'learning_rate': '0.2027270019188835',\n",
       "  'max_depth': '11',\n",
       "  'min_child_weight': '9.498814078399025',\n",
       "  'objective': 'reg:linear',\n",
       "  'reg_alpha': '0.05903805330249986',\n",
       "  'reg_lambda': '0.026935158747484356',\n",
       "  'seed': '42'}, tags={'mlflow.runName': 'dapper-wolf-248',\n",
       "  'mlflow.source.git.commit': '4f081feff55f9f92b55ed9f092046aae54bcab83',\n",
       "  'mlflow.source.name': 'C:\\\\Users\\\\KonuTech\\\\PycharmProjects\\\\mlops-zoomcamp-training\\\\.venv\\\\lib\\\\site-packages\\\\ipykernel_launcher.py',\n",
       "  'mlflow.source.type': 'LOCAL',\n",
       "  'mlflow.user': 'KonuTech',\n",
       "  'model': 'xgboost'}>, info=<RunInfo: artifact_uri='file:///C:/Users/KonuTech/PycharmProjects/mlops-zoomcamp-training/mlruns/1/5212d0d698c046d1b8bc7461dc4f658c/artifacts', end_time=1684338815640, experiment_id='1', lifecycle_stage='active', run_id='5212d0d698c046d1b8bc7461dc4f658c', run_name='dapper-wolf-248', run_uuid='5212d0d698c046d1b8bc7461dc4f658c', start_time=1684337770801, status='FINISHED', user_id='KonuTech'>>,\n",
       " <Run: data=<RunData: metrics={'rmse': 4.793050346292389}, params={'learning_rate': '0.1597986152862836',\n",
       "  'max_depth': '13',\n",
       "  'min_child_weight': '15.89312366774702',\n",
       "  'objective': 'reg:linear',\n",
       "  'reg_alpha': '0.060009292542621245',\n",
       "  'reg_lambda': '0.025573869315758155',\n",
       "  'seed': '42'}, tags={'mlflow.runName': 'persistent-bug-435',\n",
       "  'mlflow.source.git.commit': '4f081feff55f9f92b55ed9f092046aae54bcab83',\n",
       "  'mlflow.source.name': 'C:\\\\Users\\\\KonuTech\\\\PycharmProjects\\\\mlops-zoomcamp-training\\\\.venv\\\\lib\\\\site-packages\\\\ipykernel_launcher.py',\n",
       "  'mlflow.source.type': 'LOCAL',\n",
       "  'mlflow.user': 'KonuTech',\n",
       "  'model': 'xgboost'}>, info=<RunInfo: artifact_uri='file:///C:/Users/KonuTech/PycharmProjects/mlops-zoomcamp-training/mlruns/1/361f45fff7e54aef8b45e42e5e285db3/artifacts', end_time=1684329711007, experiment_id='1', lifecycle_stage='active', run_id='361f45fff7e54aef8b45e42e5e285db3', run_name='persistent-bug-435', run_uuid='361f45fff7e54aef8b45e42e5e285db3', start_time=1684328379308, status='FINISHED', user_id='KonuTech'>>,\n",
       " <Run: data=<RunData: metrics={'rmse': 4.793107113315715}, params={'learning_rate': '0.17013885820069322',\n",
       "  'max_depth': '11',\n",
       "  'min_child_weight': '8.675238183176928',\n",
       "  'objective': 'reg:linear',\n",
       "  'reg_alpha': '0.057220584714422706',\n",
       "  'reg_lambda': '0.025775573202082368',\n",
       "  'seed': '42'}, tags={'mlflow.runName': 'nebulous-smelt-649',\n",
       "  'mlflow.source.git.commit': '4f081feff55f9f92b55ed9f092046aae54bcab83',\n",
       "  'mlflow.source.name': 'C:\\\\Users\\\\KonuTech\\\\PycharmProjects\\\\mlops-zoomcamp-training\\\\.venv\\\\lib\\\\site-packages\\\\ipykernel_launcher.py',\n",
       "  'mlflow.source.type': 'LOCAL',\n",
       "  'mlflow.user': 'KonuTech',\n",
       "  'model': 'xgboost'}>, info=<RunInfo: artifact_uri='file:///C:/Users/KonuTech/PycharmProjects/mlops-zoomcamp-training/mlruns/1/726a6c5750aa471d893948dcd804f82c/artifacts', end_time=1684330907735, experiment_id='1', lifecycle_stage='active', run_id='726a6c5750aa471d893948dcd804f82c', run_name='nebulous-smelt-649', run_uuid='726a6c5750aa471d893948dcd804f82c', start_time=1684329711058, status='FINISHED', user_id='KonuTech'>>]"
      ]
     },
     "execution_count": 14,
     "metadata": {},
     "output_type": "execute_result"
    }
   ],
   "source": [
    "runs"
   ]
  },
  {
   "cell_type": "code",
   "execution_count": 13,
   "id": "1a04172b",
   "metadata": {},
   "outputs": [
    {
     "name": "stdout",
     "output_type": "stream",
     "text": [
      "run id: 80fce15eb4244fd4b6ac3a4d0f2290c3, rmse: 4.7911\n",
      "run id: 0b14297532c343b19eeb5ec1f422f5ad, rmse: 4.7911\n",
      "run id: 5212d0d698c046d1b8bc7461dc4f658c, rmse: 4.7911\n",
      "run id: 361f45fff7e54aef8b45e42e5e285db3, rmse: 4.7931\n",
      "run id: 726a6c5750aa471d893948dcd804f82c, rmse: 4.7931\n"
     ]
    }
   ],
   "source": [
    "for r, run in enumerate(runs):\n",
    "    print(f\"run id: {run.info.run_id}, rmse: {run.data.metrics['rmse']:.4f}\")"
   ]
  },
  {
   "cell_type": "markdown",
   "id": "f36bd931",
   "metadata": {},
   "source": [
    "### Interacting with the Model Registry"
   ]
  },
  {
   "cell_type": "code",
   "execution_count": 15,
   "id": "b359c64c",
   "metadata": {},
   "outputs": [],
   "source": [
    "mlflow.set_tracking_uri(MLFLOW_TRACKING_URI)"
   ]
  },
  {
   "cell_type": "code",
   "execution_count": 16,
   "id": "827ee15f",
   "metadata": {},
   "outputs": [
    {
     "name": "stderr",
     "output_type": "stream",
     "text": [
      "Registered model 'nyc-taxi-regressor' already exists. Creating a new version of this model...\n",
      "2023/05/18 14:23:48 INFO mlflow.tracking._model_registry.client: Waiting up to 300 seconds for model version to finish creation. Model name: nyc-taxi-regressor, version 4\n",
      "Created version '4' of model 'nyc-taxi-regressor'.\n"
     ]
    },
    {
     "data": {
      "text/plain": [
       "<ModelVersion: aliases=[], creation_timestamp=1684412628922, current_stage='None', description=None, last_updated_timestamp=1684412628922, name='nyc-taxi-regressor', run_id='7aa27c3f85b9474d811bba5b9c7d4002', run_link=None, source='file:///C:/Users/KonuTech/PycharmProjects/mlops-zoomcamp-training/mlruns/2/7aa27c3f85b9474d811bba5b9c7d4002/artifacts/models_mlflow', status='READY', status_message=None, tags={}, user_id=None, version=4>"
      ]
     },
     "execution_count": 16,
     "metadata": {},
     "output_type": "execute_result"
    }
   ],
   "source": [
    "run_id = \"7aa27c3f85b9474d811bba5b9c7d4002\"\n",
    "model_uri = f\"runs:/{run_id}/models_mlflow\"\n",
    "mlflow.register_model(model_uri=model_uri, name=\"nyc-taxi-regressor\")"
   ]
  },
  {
   "cell_type": "code",
   "execution_count": 17,
   "id": "3ee7330d",
   "metadata": {},
   "outputs": [
    {
     "data": {
      "text/plain": [
       "[<FileInfo: file_size=None, is_dir=True, path='models_mlflow'>,\n",
       " <FileInfo: file_size=None, is_dir=True, path='preprocessor'>]"
      ]
     },
     "execution_count": 17,
     "metadata": {},
     "output_type": "execute_result"
    }
   ],
   "source": [
    "client.list_artifacts(run_id)"
   ]
  },
  {
   "cell_type": "code",
   "execution_count": 18,
   "id": "fe327f77",
   "metadata": {},
   "outputs": [],
   "source": [
    "model_name = \"nyc-taxi-regressor\"\n",
    "latest_versions = client.get_latest_versions(name=model_name)"
   ]
  },
  {
   "cell_type": "code",
   "execution_count": 19,
   "id": "d0b052e9",
   "metadata": {},
   "outputs": [
    {
     "name": "stdout",
     "output_type": "stream",
     "text": [
      "version: 3, stage: Staging\n",
      "version: 2, stage: Archived\n",
      "version: 4, stage: None\n"
     ]
    }
   ],
   "source": [
    "for version in latest_versions:\n",
    "    print(f\"version: {version.version}, stage: {version.current_stage}\")"
   ]
  },
  {
   "cell_type": "code",
   "execution_count": 20,
   "id": "5aea92ff",
   "metadata": {},
   "outputs": [],
   "source": [
    "model_version = 4\n",
    "new_stage = \"Staging\""
   ]
  },
  {
   "cell_type": "code",
   "execution_count": 21,
   "id": "cf51b982",
   "metadata": {},
   "outputs": [
    {
     "data": {
      "text/plain": [
       "<ModelVersion: aliases=[], creation_timestamp=1684412628922, current_stage='Staging', description=None, last_updated_timestamp=1684412915609, name='nyc-taxi-regressor', run_id='7aa27c3f85b9474d811bba5b9c7d4002', run_link=None, source='file:///C:/Users/KonuTech/PycharmProjects/mlops-zoomcamp-training/mlruns/2/7aa27c3f85b9474d811bba5b9c7d4002/artifacts/models_mlflow', status='READY', status_message=None, tags={}, user_id=None, version=4>"
      ]
     },
     "execution_count": 21,
     "metadata": {},
     "output_type": "execute_result"
    }
   ],
   "source": [
    "client.transition_model_version_stage(\n",
    "    name=model_name,\n",
    "    version=model_version,\n",
    "    stage=new_stage,\n",
    "    archive_existing_versions=False\n",
    ")"
   ]
  },
  {
   "cell_type": "code",
   "execution_count": 23,
   "id": "57c037f7",
   "metadata": {},
   "outputs": [],
   "source": [
    "date = datetime.today().date()"
   ]
  },
  {
   "cell_type": "code",
   "execution_count": 24,
   "id": "9a45e34e",
   "metadata": {},
   "outputs": [
    {
     "data": {
      "text/plain": [
       "<ModelVersion: aliases=[], creation_timestamp=1684412628922, current_stage='Staging', description='The model version 4 was transitioned to Staging on 2023-05-18', last_updated_timestamp=1684413002654, name='nyc-taxi-regressor', run_id='7aa27c3f85b9474d811bba5b9c7d4002', run_link=None, source='file:///C:/Users/KonuTech/PycharmProjects/mlops-zoomcamp-training/mlruns/2/7aa27c3f85b9474d811bba5b9c7d4002/artifacts/models_mlflow', status='READY', status_message=None, tags={}, user_id=None, version=4>"
      ]
     },
     "execution_count": 24,
     "metadata": {},
     "output_type": "execute_result"
    }
   ],
   "source": [
    "client.update_model_version(\n",
    "    name=model_name,\n",
    "    version=model_version,\n",
    "    description=f\"The model version {model_version} was transitioned to {new_stage} on {date}\"\n",
    ")"
   ]
  },
  {
   "cell_type": "markdown",
   "id": "adbff3f8",
   "metadata": {},
   "source": [
    "### Comparing versions and selecting the new \"Production\" model"
   ]
  },
  {
   "cell_type": "code",
   "execution_count": 26,
   "id": "3dc67ee9",
   "metadata": {},
   "outputs": [],
   "source": [
    "# def read_dataframe(filename):\n",
    "#     df = pd.read_csv(filename)\n",
    "\n",
    "#     df.lpep_dropoff_datetime = pd.to_datetime(df.lpep_dropoff_datetime)\n",
    "#     df.lpep_pickup_datetime = pd.to_datetime(df.lpep_pickup_datetime)\n",
    "\n",
    "#     df['duration'] = df.lpep_dropoff_datetime - df.lpep_pickup_datetime\n",
    "#     df.duration = df.duration.apply(lambda td: td.total_seconds() / 60)\n",
    "\n",
    "#     df = df[(df.duration >= 1) & (df.duration <= 60)]\n",
    "\n",
    "#     categorical = ['PULocationID', 'DOLocationID']\n",
    "#     df[categorical] = df[categorical].astype(str)\n",
    "    \n",
    "#     return df"
   ]
  },
  {
   "cell_type": "code",
   "execution_count": 29,
   "id": "a47c222c",
   "metadata": {},
   "outputs": [],
   "source": [
    "def read_dataframe(filename):\n",
    "    \n",
    "    if filename.endswith('.csv'):\n",
    "        \n",
    "        df = pd.read_csv(filename)\n",
    "        \n",
    "        df.lpep_dropoff_datetime = pd.to_datetime(df.lpep_dropoff_datetime)\n",
    "        df.lpep_pickup_datetime = pd.to_datetime(df.lpep_pickup_datetime)\n",
    "        \n",
    "    elif filename.endswith('.parquet'):\n",
    "        \n",
    "        df = pd.read_parquet(filename)\n",
    "\n",
    "    df['duration'] = df.lpep_dropoff_datetime - df.lpep_pickup_datetime\n",
    "    df.duration = df.duration.apply(lambda td: td.total_seconds() / 60)\n",
    "\n",
    "    df = df[(df.duration >= 1) & (df.duration <= 60)]\n",
    "\n",
    "    categorical = ['PULocationID', 'DOLocationID']\n",
    "    df[categorical] = df[categorical].astype(str)\n",
    "    \n",
    "    return df"
   ]
  },
  {
   "cell_type": "code",
   "execution_count": 27,
   "id": "608c647c",
   "metadata": {},
   "outputs": [],
   "source": [
    "def preprocess(df, dv):\n",
    "    df['PU_DO'] = df['PULocationID'] + '_' + df['DOLocationID']\n",
    "    categorical = ['PU_DO']\n",
    "    numerical = ['trip_distance']\n",
    "    train_dicts = df[categorical + numerical].to_dict(orient='records')\n",
    "    return dv.transform(train_dicts)"
   ]
  },
  {
   "cell_type": "code",
   "execution_count": 28,
   "id": "8c4af6b5",
   "metadata": {},
   "outputs": [],
   "source": [
    "def test_model(name, stage, X_test, y_test):\n",
    "    model = mlflow.pyfunc.load_model(f\"models:/{name}/{stage}\")\n",
    "    y_pred = model.predict(X_test)\n",
    "    return {\"rmse\": mean_squared_error(y_test, y_pred, squared=False)}"
   ]
  },
  {
   "cell_type": "code",
   "execution_count": 35,
   "id": "c2e7ef92",
   "metadata": {},
   "outputs": [],
   "source": [
    "df = read_dataframe(FILE_PATH_VALIDATION)"
   ]
  },
  {
   "cell_type": "markdown",
   "id": "04c772c3",
   "metadata": {},
   "source": [
    "###### run_id of Version 4"
   ]
  },
  {
   "cell_type": "code",
   "execution_count": 37,
   "id": "5eab0df6",
   "metadata": {},
   "outputs": [
    {
     "data": {
      "text/plain": [
       "'7aa27c3f85b9474d811bba5b9c7d4002'"
      ]
     },
     "execution_count": 37,
     "metadata": {},
     "output_type": "execute_result"
    }
   ],
   "source": [
    "run_id"
   ]
  },
  {
   "cell_type": "code",
   "execution_count": 36,
   "id": "77e4161d",
   "metadata": {},
   "outputs": [
    {
     "name": "stderr",
     "output_type": "stream",
     "text": [
      "C:\\Users\\KonuTech\\AppData\\Local\\Temp\\ipykernel_11100\\2852634549.py:1: FutureWarning: ``mlflow.tracking.client.MlflowClient.download_artifacts`` is deprecated since 2.0. This method will be removed in a future release. Use ``mlflow.artifacts.download_artifacts`` instead.\n",
      "  client.download_artifacts(run_id=run_id, path='preprocessor', dst_path='.')\n"
     ]
    },
    {
     "data": {
      "text/plain": [
       "'C:\\\\Users\\\\KonuTech\\\\PycharmProjects\\\\mlops-zoomcamp-training\\\\preprocessor'"
      ]
     },
     "execution_count": 36,
     "metadata": {},
     "output_type": "execute_result"
    }
   ],
   "source": [
    "client.download_artifacts(run_id=run_id, path='preprocessor', dst_path='.')"
   ]
  },
  {
   "cell_type": "code",
   "execution_count": 39,
   "id": "9086c750",
   "metadata": {},
   "outputs": [],
   "source": [
    "with open('./preprocessor/preprocessor.b', 'rb') as f_in:\n",
    "    dv = pickle.load(f_in)"
   ]
  },
  {
   "cell_type": "code",
   "execution_count": 41,
   "id": "5a426240",
   "metadata": {},
   "outputs": [],
   "source": [
    "X_test = preprocess(df, dv)"
   ]
  },
  {
   "cell_type": "code",
   "execution_count": 42,
   "id": "553596d3",
   "metadata": {},
   "outputs": [
    {
     "data": {
      "text/plain": [
       "<80372x13221 sparse matrix of type '<class 'numpy.float64'>'\n",
       "\twith 153356 stored elements in Compressed Sparse Row format>"
      ]
     },
     "execution_count": 42,
     "metadata": {},
     "output_type": "execute_result"
    }
   ],
   "source": [
    "X_test"
   ]
  },
  {
   "cell_type": "code",
   "execution_count": 44,
   "id": "7fc5d517",
   "metadata": {},
   "outputs": [],
   "source": [
    "target = 'duration'"
   ]
  },
  {
   "cell_type": "code",
   "execution_count": 47,
   "id": "0c5b278f",
   "metadata": {},
   "outputs": [],
   "source": [
    "y_test = df[target].values"
   ]
  },
  {
   "cell_type": "code",
   "execution_count": 49,
   "id": "8ce8eccd",
   "metadata": {},
   "outputs": [
    {
     "name": "stderr",
     "output_type": "stream",
     "text": [
      "2023/05/18 14:50:15 WARNING mlflow.pyfunc: Detected one or more mismatches between the model's dependencies and the current Python environment:\n",
      " - mlflow (current: 2.3.2, required: mlflow==2.3)\n",
      "To fix the mismatches, call `mlflow.pyfunc.get_model_dependencies(model_uri)` to fetch the model's environment and install dependencies using the resulting environment file.\n"
     ]
    },
    {
     "name": "stdout",
     "output_type": "stream",
     "text": [
      "CPU times: total: 375 ms\n",
      "Wall time: 365 ms\n"
     ]
    },
    {
     "data": {
      "text/plain": [
       "{'rmse': 6.659623830022513}"
      ]
     },
     "execution_count": 49,
     "metadata": {},
     "output_type": "execute_result"
    }
   ],
   "source": [
    "%time test_model(name=model_name, stage='Production', X_test=X_test, y_test=y_test)"
   ]
  },
  {
   "cell_type": "code",
   "execution_count": 50,
   "id": "42d4a0cb",
   "metadata": {},
   "outputs": [
    {
     "name": "stderr",
     "output_type": "stream",
     "text": [
      "2023/05/18 14:50:48 WARNING mlflow.pyfunc: Detected one or more mismatches between the model's dependencies and the current Python environment:\n",
      " - mlflow (current: 2.3.2, required: mlflow==2.3)\n",
      "To fix the mismatches, call `mlflow.pyfunc.get_model_dependencies(model_uri)` to fetch the model's environment and install dependencies using the resulting environment file.\n"
     ]
    },
    {
     "name": "stdout",
     "output_type": "stream",
     "text": [
      "[14:50:48] WARNING: C:\\buildkite-agent\\builds\\buildkite-windows-cpu-autoscaling-group-i-07593ffd91cd9da33-1\\xgboost\\xgboost-ci-windows\\src\\objective\\regression_obj.cu:213: reg:linear is now deprecated in favor of reg:squarederror.\n",
      "CPU times: total: 6.84 s\n",
      "Wall time: 514 ms\n"
     ]
    },
    {
     "data": {
      "text/plain": [
       "{'rmse': 6.310696262679724}"
      ]
     },
     "execution_count": 50,
     "metadata": {},
     "output_type": "execute_result"
    }
   ],
   "source": [
    "%time test_model(name=model_name, stage='Staging', X_test=X_test, y_test=y_test)"
   ]
  },
  {
   "cell_type": "code",
   "execution_count": 51,
   "id": "225b0517",
   "metadata": {},
   "outputs": [
    {
     "data": {
      "text/plain": [
       "<ModelVersion: aliases=[], creation_timestamp=1684412628922, current_stage='Production', description='The model version 4 was transitioned to Staging on 2023-05-18', last_updated_timestamp=1684414318965, name='nyc-taxi-regressor', run_id='7aa27c3f85b9474d811bba5b9c7d4002', run_link=None, source='file:///C:/Users/KonuTech/PycharmProjects/mlops-zoomcamp-training/mlruns/2/7aa27c3f85b9474d811bba5b9c7d4002/artifacts/models_mlflow', status='READY', status_message=None, tags={}, user_id=None, version=4>"
      ]
     },
     "execution_count": 51,
     "metadata": {},
     "output_type": "execute_result"
    }
   ],
   "source": [
    "client.transition_model_version_stage(\n",
    "    name=model_name,\n",
    "    version=4,\n",
    "    stage=\"Production\",\n",
    "    archive_existing_versions=True\n",
    ")"
   ]
  },
  {
   "cell_type": "code",
   "execution_count": null,
   "id": "d25539b2",
   "metadata": {},
   "outputs": [],
   "source": []
  }
 ],
 "metadata": {
  "kernelspec": {
   "display_name": "Python 3 (ipykernel)",
   "language": "python",
   "name": "python3"
  },
  "language_info": {
   "codemirror_mode": {
    "name": "ipython",
    "version": 3
   },
   "file_extension": ".py",
   "mimetype": "text/x-python",
   "name": "python",
   "nbconvert_exporter": "python",
   "pygments_lexer": "ipython3",
   "version": "3.9.3"
  }
 },
 "nbformat": 4,
 "nbformat_minor": 5
}
