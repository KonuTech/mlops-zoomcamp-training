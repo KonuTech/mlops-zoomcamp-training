{
 "cells": [
  {
   "cell_type": "code",
   "execution_count": 2,
   "id": "872019eb",
   "metadata": {},
   "outputs": [
    {
     "name": "stdout",
     "output_type": "stream",
     "text": [
      "C:\\Users\\KonuTech\\PycharmProjects\\mlops-zoomcamp-training\n"
     ]
    }
   ],
   "source": [
    "cd .."
   ]
  },
  {
   "cell_type": "code",
   "execution_count": 9,
   "id": "46240ede",
   "metadata": {},
   "outputs": [],
   "source": [
    "from IPython.display import display, HTML\n",
    "import warnings"
   ]
  },
  {
   "cell_type": "code",
   "execution_count": 10,
   "id": "f5eb12a9",
   "metadata": {},
   "outputs": [],
   "source": [
    "import mlflow"
   ]
  },
  {
   "cell_type": "code",
   "execution_count": 11,
   "id": "99ecc3cd",
   "metadata": {},
   "outputs": [],
   "source": [
    "from sklearn.linear_model import LogisticRegression\n",
    "from sklearn.datasets import load_iris\n",
    "from sklearn.metrics import accuracy_score"
   ]
  },
  {
   "cell_type": "code",
   "execution_count": 20,
   "id": "1e7aae16",
   "metadata": {},
   "outputs": [],
   "source": [
    "from mlflow.tracking import MlflowClient"
   ]
  },
  {
   "cell_type": "code",
   "execution_count": 23,
   "id": "d4565857",
   "metadata": {},
   "outputs": [],
   "source": [
    "from mlflow.exceptions import MlflowException"
   ]
  },
  {
   "cell_type": "code",
   "execution_count": 13,
   "id": "3f367440",
   "metadata": {},
   "outputs": [
    {
     "name": "stdout",
     "output_type": "stream",
     "text": [
      "tracking URI: 'file:///C:/Users/KonuTech/PycharmProjects/mlops-zoomcamp-training/mlruns'\n"
     ]
    }
   ],
   "source": [
    "print(f\"tracking URI: '{mlflow.get_tracking_uri()}'\")"
   ]
  },
  {
   "cell_type": "code",
   "execution_count": 15,
   "id": "0f17181a",
   "metadata": {},
   "outputs": [],
   "source": [
    "# mlflow.list_experiments()"
   ]
  },
  {
   "cell_type": "code",
   "execution_count": 16,
   "id": "c1d701d4",
   "metadata": {},
   "outputs": [
    {
     "name": "stderr",
     "output_type": "stream",
     "text": [
      "WARNING:root:Malformed experiment '1'. Detailed error Yaml file 'C:\\Users\\KonuTech\\PycharmProjects\\mlops-zoomcamp-training\\mlruns\\1\\meta.yaml' does not exist.\n",
      "Traceback (most recent call last):\n",
      "  File \"C:\\Users\\KonuTech\\PycharmProjects\\mlops-zoomcamp-training\\.venv\\lib\\site-packages\\mlflow\\store\\tracking\\file_store.py\", line 290, in search_experiments\n",
      "    exp = self._get_experiment(exp_id, view_type)\n",
      "  File \"C:\\Users\\KonuTech\\PycharmProjects\\mlops-zoomcamp-training\\.venv\\lib\\site-packages\\mlflow\\store\\tracking\\file_store.py\", line 383, in _get_experiment\n",
      "    meta = FileStore._read_yaml(experiment_dir, FileStore.META_DATA_FILE_NAME)\n",
      "  File \"C:\\Users\\KonuTech\\PycharmProjects\\mlops-zoomcamp-training\\.venv\\lib\\site-packages\\mlflow\\store\\tracking\\file_store.py\", line 1096, in _read_yaml\n",
      "    return _read_helper(root, file_name, attempts_remaining=retries)\n",
      "  File \"C:\\Users\\KonuTech\\PycharmProjects\\mlops-zoomcamp-training\\.venv\\lib\\site-packages\\mlflow\\store\\tracking\\file_store.py\", line 1089, in _read_helper\n",
      "    result = read_yaml(root, file_name)\n",
      "  File \"C:\\Users\\KonuTech\\PycharmProjects\\mlops-zoomcamp-training\\.venv\\lib\\site-packages\\mlflow\\utils\\file_utils.py\", line 215, in read_yaml\n",
      "    raise MissingConfigException(\"Yaml file '%s' does not exist.\" % file_path)\n",
      "mlflow.exceptions.MissingConfigException: Yaml file 'C:\\Users\\KonuTech\\PycharmProjects\\mlops-zoomcamp-training\\mlruns\\1\\meta.yaml' does not exist.\n",
      "WARNING:root:Malformed experiment '2'. Detailed error Yaml file 'C:\\Users\\KonuTech\\PycharmProjects\\mlops-zoomcamp-training\\mlruns\\2\\meta.yaml' does not exist.\n",
      "Traceback (most recent call last):\n",
      "  File \"C:\\Users\\KonuTech\\PycharmProjects\\mlops-zoomcamp-training\\.venv\\lib\\site-packages\\mlflow\\store\\tracking\\file_store.py\", line 290, in search_experiments\n",
      "    exp = self._get_experiment(exp_id, view_type)\n",
      "  File \"C:\\Users\\KonuTech\\PycharmProjects\\mlops-zoomcamp-training\\.venv\\lib\\site-packages\\mlflow\\store\\tracking\\file_store.py\", line 383, in _get_experiment\n",
      "    meta = FileStore._read_yaml(experiment_dir, FileStore.META_DATA_FILE_NAME)\n",
      "  File \"C:\\Users\\KonuTech\\PycharmProjects\\mlops-zoomcamp-training\\.venv\\lib\\site-packages\\mlflow\\store\\tracking\\file_store.py\", line 1096, in _read_yaml\n",
      "    return _read_helper(root, file_name, attempts_remaining=retries)\n",
      "  File \"C:\\Users\\KonuTech\\PycharmProjects\\mlops-zoomcamp-training\\.venv\\lib\\site-packages\\mlflow\\store\\tracking\\file_store.py\", line 1089, in _read_helper\n",
      "    result = read_yaml(root, file_name)\n",
      "  File \"C:\\Users\\KonuTech\\PycharmProjects\\mlops-zoomcamp-training\\.venv\\lib\\site-packages\\mlflow\\utils\\file_utils.py\", line 215, in read_yaml\n",
      "    raise MissingConfigException(\"Yaml file '%s' does not exist.\" % file_path)\n",
      "mlflow.exceptions.MissingConfigException: Yaml file 'C:\\Users\\KonuTech\\PycharmProjects\\mlops-zoomcamp-training\\mlruns\\2\\meta.yaml' does not exist.\n"
     ]
    },
    {
     "data": {
      "text/plain": [
       "<Experiment: artifact_location='file:///C:/Users/KonuTech/PycharmProjects/mlops-zoomcamp-training/mlruns/884093926334912234', creation_time=1684415631344, experiment_id='884093926334912234', last_update_time=1684415631344, lifecycle_stage='active', name='my-experiment-1', tags={}>"
      ]
     },
     "execution_count": 16,
     "metadata": {},
     "output_type": "execute_result"
    }
   ],
   "source": [
    "mlflow.set_experiment(\"my-experiment-1\")"
   ]
  },
  {
   "cell_type": "code",
   "execution_count": 17,
   "id": "51ecd0b8",
   "metadata": {},
   "outputs": [
    {
     "name": "stdout",
     "output_type": "stream",
     "text": [
      "default artifacts URI: 'file:///C:/Users/KonuTech/PycharmProjects/mlops-zoomcamp-training/mlruns/884093926334912234/90aed962dff7461f844ec32423e41e0e/artifacts'\n"
     ]
    },
    {
     "name": "stderr",
     "output_type": "stream",
     "text": [
      "C:\\Users\\KonuTech\\PycharmProjects\\mlops-zoomcamp-training\\.venv\\lib\\site-packages\\_distutils_hack\\__init__.py:33: UserWarning: Setuptools is replacing distutils.\n",
      "  warnings.warn(\"Setuptools is replacing distutils.\")\n"
     ]
    }
   ],
   "source": [
    "with mlflow.start_run():\n",
    "\n",
    "    X, y = load_iris(return_X_y=True)\n",
    "\n",
    "    params = {\"C\": 0.1, \"random_state\": 42}\n",
    "    mlflow.log_params(params)\n",
    "\n",
    "    lr = LogisticRegression(**params).fit(X, y)\n",
    "    y_pred = lr.predict(X)\n",
    "    mlflow.log_metric(\"accuracy\", accuracy_score(y, y_pred))\n",
    "\n",
    "    mlflow.sklearn.log_model(lr, artifact_path=\"models\")\n",
    "    print(f\"default artifacts URI: '{mlflow.get_artifact_uri()}'\")"
   ]
  },
  {
   "cell_type": "code",
   "execution_count": 19,
   "id": "5ad33aed",
   "metadata": {},
   "outputs": [],
   "source": [
    "# mlflow.list_experiments()"
   ]
  },
  {
   "cell_type": "code",
   "execution_count": 21,
   "id": "b3a14b17",
   "metadata": {},
   "outputs": [],
   "source": [
    "client = MlflowClient()"
   ]
  },
  {
   "cell_type": "code",
   "execution_count": 25,
   "id": "6f91157d",
   "metadata": {
    "scrolled": true
   },
   "outputs": [
    {
     "name": "stdout",
     "output_type": "stream",
     "text": [
      "__class__\n",
      "__delattr__\n",
      "__dict__\n",
      "__dir__\n",
      "__doc__\n",
      "__eq__\n",
      "__format__\n",
      "__ge__\n",
      "__getattribute__\n",
      "__gt__\n",
      "__hash__\n",
      "__init__\n",
      "__init_subclass__\n",
      "__le__\n",
      "__lt__\n",
      "__module__\n",
      "__ne__\n",
      "__new__\n",
      "__reduce__\n",
      "__reduce_ex__\n",
      "__repr__\n",
      "__setattr__\n",
      "__sizeof__\n",
      "__str__\n",
      "__subclasshook__\n",
      "__weakref__\n",
      "_get_registry_client\n",
      "_log_artifact_helper\n",
      "_record_logged_model\n",
      "_registry_uri\n",
      "_tracking_client\n",
      "create_experiment\n",
      "create_model_version\n",
      "create_registered_model\n",
      "create_run\n",
      "delete_experiment\n",
      "delete_model_version\n",
      "delete_model_version_tag\n",
      "delete_registered_model\n",
      "delete_registered_model_alias\n",
      "delete_registered_model_tag\n",
      "delete_run\n",
      "delete_tag\n",
      "download_artifacts\n",
      "get_experiment\n",
      "get_experiment_by_name\n",
      "get_latest_versions\n",
      "get_metric_history\n",
      "get_model_version\n",
      "get_model_version_by_alias\n",
      "get_model_version_download_uri\n",
      "get_model_version_stages\n",
      "get_registered_model\n",
      "get_run\n",
      "list_artifacts\n",
      "log_artifact\n",
      "log_artifacts\n",
      "log_batch\n",
      "log_dict\n",
      "log_figure\n",
      "log_image\n",
      "log_metric\n",
      "log_param\n",
      "log_text\n",
      "rename_experiment\n",
      "rename_registered_model\n",
      "restore_experiment\n",
      "restore_run\n",
      "search_experiments\n",
      "search_model_versions\n",
      "search_registered_models\n",
      "search_runs\n",
      "set_experiment_tag\n",
      "set_model_version_tag\n",
      "set_registered_model_alias\n",
      "set_registered_model_tag\n",
      "set_tag\n",
      "set_terminated\n",
      "tracking_uri\n",
      "transition_model_version_stage\n",
      "update_model_version\n",
      "update_registered_model\n",
      "update_run\n"
     ]
    }
   ],
   "source": [
    "# Get the list of available methods and attributes\n",
    "available_methods = dir(client)\n",
    "\n",
    "# Print the list\n",
    "for method in available_methods:\n",
    "    print(method)"
   ]
  },
  {
   "cell_type": "code",
   "execution_count": 26,
   "id": "ba2cf554",
   "metadata": {},
   "outputs": [
    {
     "name": "stderr",
     "output_type": "stream",
     "text": [
      "WARNING:root:Malformed experiment '1'. Detailed error Yaml file 'C:\\Users\\KonuTech\\PycharmProjects\\mlops-zoomcamp-training\\mlruns\\1\\meta.yaml' does not exist.\n",
      "Traceback (most recent call last):\n",
      "  File \"C:\\Users\\KonuTech\\PycharmProjects\\mlops-zoomcamp-training\\.venv\\lib\\site-packages\\mlflow\\store\\tracking\\file_store.py\", line 290, in search_experiments\n",
      "    exp = self._get_experiment(exp_id, view_type)\n",
      "  File \"C:\\Users\\KonuTech\\PycharmProjects\\mlops-zoomcamp-training\\.venv\\lib\\site-packages\\mlflow\\store\\tracking\\file_store.py\", line 383, in _get_experiment\n",
      "    meta = FileStore._read_yaml(experiment_dir, FileStore.META_DATA_FILE_NAME)\n",
      "  File \"C:\\Users\\KonuTech\\PycharmProjects\\mlops-zoomcamp-training\\.venv\\lib\\site-packages\\mlflow\\store\\tracking\\file_store.py\", line 1096, in _read_yaml\n",
      "    return _read_helper(root, file_name, attempts_remaining=retries)\n",
      "  File \"C:\\Users\\KonuTech\\PycharmProjects\\mlops-zoomcamp-training\\.venv\\lib\\site-packages\\mlflow\\store\\tracking\\file_store.py\", line 1089, in _read_helper\n",
      "    result = read_yaml(root, file_name)\n",
      "  File \"C:\\Users\\KonuTech\\PycharmProjects\\mlops-zoomcamp-training\\.venv\\lib\\site-packages\\mlflow\\utils\\file_utils.py\", line 215, in read_yaml\n",
      "    raise MissingConfigException(\"Yaml file '%s' does not exist.\" % file_path)\n",
      "mlflow.exceptions.MissingConfigException: Yaml file 'C:\\Users\\KonuTech\\PycharmProjects\\mlops-zoomcamp-training\\mlruns\\1\\meta.yaml' does not exist.\n",
      "WARNING:root:Malformed experiment '2'. Detailed error Yaml file 'C:\\Users\\KonuTech\\PycharmProjects\\mlops-zoomcamp-training\\mlruns\\2\\meta.yaml' does not exist.\n",
      "Traceback (most recent call last):\n",
      "  File \"C:\\Users\\KonuTech\\PycharmProjects\\mlops-zoomcamp-training\\.venv\\lib\\site-packages\\mlflow\\store\\tracking\\file_store.py\", line 290, in search_experiments\n",
      "    exp = self._get_experiment(exp_id, view_type)\n",
      "  File \"C:\\Users\\KonuTech\\PycharmProjects\\mlops-zoomcamp-training\\.venv\\lib\\site-packages\\mlflow\\store\\tracking\\file_store.py\", line 383, in _get_experiment\n",
      "    meta = FileStore._read_yaml(experiment_dir, FileStore.META_DATA_FILE_NAME)\n",
      "  File \"C:\\Users\\KonuTech\\PycharmProjects\\mlops-zoomcamp-training\\.venv\\lib\\site-packages\\mlflow\\store\\tracking\\file_store.py\", line 1096, in _read_yaml\n",
      "    return _read_helper(root, file_name, attempts_remaining=retries)\n",
      "  File \"C:\\Users\\KonuTech\\PycharmProjects\\mlops-zoomcamp-training\\.venv\\lib\\site-packages\\mlflow\\store\\tracking\\file_store.py\", line 1089, in _read_helper\n",
      "    result = read_yaml(root, file_name)\n",
      "  File \"C:\\Users\\KonuTech\\PycharmProjects\\mlops-zoomcamp-training\\.venv\\lib\\site-packages\\mlflow\\utils\\file_utils.py\", line 215, in read_yaml\n",
      "    raise MissingConfigException(\"Yaml file '%s' does not exist.\" % file_path)\n",
      "mlflow.exceptions.MissingConfigException: Yaml file 'C:\\Users\\KonuTech\\PycharmProjects\\mlops-zoomcamp-training\\mlruns\\2\\meta.yaml' does not exist.\n"
     ]
    },
    {
     "data": {
      "text/plain": [
       "[<Experiment: artifact_location='file:///C:/Users/KonuTech/PycharmProjects/mlops-zoomcamp-training/mlruns/884093926334912234', creation_time=1684415631344, experiment_id='884093926334912234', last_update_time=1684415631344, lifecycle_stage='active', name='my-experiment-1', tags={}>]"
      ]
     },
     "execution_count": 26,
     "metadata": {},
     "output_type": "execute_result"
    }
   ],
   "source": [
    "client.search_experiments(order_by=[\"experiment_id DESC\"])"
   ]
  },
  {
   "cell_type": "code",
   "execution_count": 27,
   "id": "743ace95",
   "metadata": {},
   "outputs": [],
   "source": [
    "try:\n",
    "    client.search_registered_models()\n",
    "except MlflowException:\n",
    "    print(\"It's not possible to access the model registry :(\")"
   ]
  },
  {
   "cell_type": "markdown",
   "id": "0c3a6f6c",
   "metadata": {},
   "source": [
    "### No backend in Scenario-1"
   ]
  },
  {
   "cell_type": "code",
   "execution_count": null,
   "id": "1e049792",
   "metadata": {},
   "outputs": [],
   "source": []
  }
 ],
 "metadata": {
  "kernelspec": {
   "display_name": "Python 3 (ipykernel)",
   "language": "python",
   "name": "python3"
  },
  "language_info": {
   "codemirror_mode": {
    "name": "ipython",
    "version": 3
   },
   "file_extension": ".py",
   "mimetype": "text/x-python",
   "name": "python",
   "nbconvert_exporter": "python",
   "pygments_lexer": "ipython3",
   "version": "3.9.3"
  }
 },
 "nbformat": 4,
 "nbformat_minor": 5
}
